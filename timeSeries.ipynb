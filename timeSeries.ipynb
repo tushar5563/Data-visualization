{
  "cells": [
    {
      "cell_type": "markdown",
      "metadata": {
        "id": "2STmV10HHiV1"
      },
      "source": [
        "A time series is the series of data points listed in time order. \n",
        "\n",
        "A time series is a sequence of successive equal interval points in time. \n",
        "\n",
        "A time-series analysis consists of methods for analyzing time series data in order to extract meaningful insights and other useful characteristics of data.\n",
        "\n",
        "For performing time series analysis download stock_data.csv"
      ]
    },
    {
      "cell_type": "code",
      "execution_count": null,
      "metadata": {
        "id": "lTwcNaycH8Cs"
      },
      "outputs": [],
      "source": [
        "import pandas as pd\n",
        "import numpy as np\n",
        "import matplotlib.pyplot as plt"
      ]
    },
    {
      "cell_type": "code",
      "execution_count": null,
      "metadata": {
        "id": "SH_Co30tH_d8"
      },
      "outputs": [],
      "source": [
        "# reading the dataset using read_csv\n",
        "df = pd.read_csv(\"C:\\Users\\Thejas Venugopal\\Downloads\\stock_data.csv\", \n",
        "                 parse_dates=True, \n",
        "                 index_col=\"Date\")\n",
        "  \n",
        "# displaying the first five rows of dataset\n",
        "df.head()"
      ]
    },
    {
      "cell_type": "markdown",
      "metadata": {
        "id": "h9apbCUOIHlB"
      },
      "source": [
        "We have used the ‘parse_dates’ parameter in the read_csv function to convert the ‘Date’ column to the DatetimeIndex format. \n",
        "\n",
        "By default, Dates are stored in string format which is not the right format for time series data analysis.\n",
        "\n",
        "Now, removing the unwanted columns from dataframe i.e. ‘Unnamed: 0’."
      ]
    },
    {
      "cell_type": "code",
      "execution_count": null,
      "metadata": {
        "id": "fH3Wfh2KIKDV"
      },
      "outputs": [],
      "source": [
        "# deleting column\n",
        "df.drop(columns='Unnamed: 0')"
      ]
    },
    {
      "cell_type": "markdown",
      "metadata": {
        "id": "16IWyyheIQAc"
      },
      "source": [
        "Example 1: Plotting a simple line plot for time series data."
      ]
    },
    {
      "cell_type": "code",
      "execution_count": null,
      "metadata": {
        "id": "2CDANtrTIQrD"
      },
      "outputs": [],
      "source": [
        "df['Volume'].plot()"
      ]
    },
    {
      "cell_type": "markdown",
      "metadata": {
        "id": "ehRRtPWAIVIo"
      },
      "source": [
        "Example 2: Now let’s plot all other columns using subplot."
      ]
    },
    {
      "cell_type": "code",
      "execution_count": null,
      "metadata": {
        "id": "6Kp9knRUIX29"
      },
      "outputs": [],
      "source": [
        "df.plot(subplots=True, figsize=(10, 12))"
      ]
    },
    {
      "cell_type": "markdown",
      "metadata": {
        "id": "Ew1LH5pEIhTZ"
      },
      "source": [
        "Resampling: Resampling is a methodology of economically using a data sample to improve the accuracy and quantify the uncertainty of a population parameter. Resampling for months or weeks and making bar plots is another very simple and widely used method of finding seasonality. Here we are going to make a bar plot of month data for 2016 and 2017.\n",
        "\n",
        "Example 3:"
      ]
    },
    {
      "cell_type": "code",
      "execution_count": null,
      "metadata": {
        "id": "Q16eXAK8IigJ"
      },
      "outputs": [],
      "source": [
        "\n",
        "# Resampling the time series data based on monthly 'M' frequency\n",
        "df_month = df.resample(\"M\").mean()\n",
        "  \n",
        "# using subplot\n",
        "fig, ax = plt.subplots(figsize=(10, 6))\n",
        "  \n",
        "# plotting bar graph\n",
        "ax.bar(df_month['2016':].index, \n",
        "       df_month.loc['2016':, \"Volume\"], \n",
        "       width=25, align='center')"
      ]
    },
    {
      "cell_type": "markdown",
      "metadata": {
        "id": "Az8xjLLbIkyy"
      },
      "source": [
        "Differencing: Differencing is used to make the difference in values of a specified interval. By default, it’s one, we can specify different values for plots. It is the most popular method to remove trends in the data."
      ]
    },
    {
      "cell_type": "code",
      "execution_count": null,
      "metadata": {
        "id": "-95nrQkxIpar"
      },
      "outputs": [],
      "source": [
        "df.Low.diff(2).plot(figsize=(10, 6))"
      ]
    },
    {
      "cell_type": "code",
      "execution_count": null,
      "metadata": {
        "id": "U_2KtWCjItQh"
      },
      "outputs": [],
      "source": [
        "df.High.diff(2).plot(figsize=(10, 6))"
      ]
    },
    {
      "cell_type": "markdown",
      "metadata": {
        "id": "5jh622mPI0d_"
      },
      "source": [
        "**Plotting the Changes in Data**\n",
        "\n",
        "We can also plot the changes that occurred in data over time. There are a few ways to plot changes in data.\n",
        "\n",
        "Shift: The shift function can be used to shift the data before or after the specified time interval. We can specify the time, and it will shift the data by one day by default. That means we will get the previous day’s data. It is helpful to see previous day data and today’s data simultaneously side by side."
      ]
    },
    {
      "cell_type": "code",
      "execution_count": null,
      "metadata": {
        "id": "WIJIRFZmI-UK"
      },
      "outputs": [],
      "source": [
        "df['Change'] = df.Close.div(df.Close.shift())\n",
        "df['Change'].plot(figsize=(10, 8), fontsize=16)\n"
      ]
    },
    {
      "cell_type": "markdown",
      "metadata": {
        "id": "V7cMNot_JKjy"
      },
      "source": [
        ".div() function helps to fill up the missing data values. \n",
        "\n",
        "Actually, div() means division. \n",
        "\n",
        "If we take df. div(6) it will divide each element in df by 6. \n",
        "\n",
        "We do this to avoid the null or missing values that are created by the ‘shift()’ operation. "
      ]
    },
    {
      "cell_type": "code",
      "execution_count": null,
      "metadata": {
        "id": "GCqq3e37JDzp"
      },
      "outputs": [],
      "source": [
        "df['2017']['Change'].plot(figsize=(10, 6))"
      ]
    },
    {
      "cell_type": "markdown",
      "metadata": {
        "id": "YWcWiL1oHodp"
      },
      "source": []
    }
  ],
  "metadata": {
    "colab": {
      "provenance": []
    },
    "kernelspec": {
      "display_name": "Python 3",
      "name": "python3"
    },
    "language_info": {
      "name": "python"
    }
  },
  "nbformat": 4,
  "nbformat_minor": 0
}
