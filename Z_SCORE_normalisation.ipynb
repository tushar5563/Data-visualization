{
  "nbformat": 4,
  "nbformat_minor": 0,
  "metadata": {
    "colab": {
      "provenance": []
    },
    "kernelspec": {
      "name": "python3",
      "display_name": "Python 3"
    },
    "language_info": {
      "name": "python"
    }
  },
  "cells": [
    {
      "cell_type": "markdown",
      "source": [
        "#LABSHEET 4"
      ],
      "metadata": {
        "id": "WyYuaabO5CJf"
      }
    },
    {
      "cell_type": "code",
      "execution_count": null,
      "metadata": {
        "id": "LPmlzMCn41lz"
      },
      "outputs": [],
      "source": [
        "import numpy as np\n",
        "import pandas as pd\n",
        "\n"
      ]
    },
    {
      "cell_type": "code",
      "source": [
        "# Example dataset\n",
        "data = {\n",
        "    'Feature1': [10, 20, 30, 40, 50],\n",
        "    'Feature2': [5, 15, 25, 35, 45]\n",
        "}\n",
        "\n",
        "# Create a DataFrame\n",
        "df = pd.DataFrame(data)\n",
        "\n",
        "# Display the original data\n",
        "print(\"Original Data:\")\n",
        "print(df)\n",
        "\n"
      ],
      "metadata": {
        "colab": {
          "base_uri": "https://localhost:8080/"
        },
        "id": "Nm5QCjhm44-m",
        "outputId": "00c92d72-84aa-4aed-b115-ca25d57cb820"
      },
      "execution_count": null,
      "outputs": [
        {
          "output_type": "stream",
          "name": "stdout",
          "text": [
            "Original Data:\n",
            "   Feature1  Feature2\n",
            "0        10         5\n",
            "1        20        15\n",
            "2        30        25\n",
            "3        40        35\n",
            "4        50        45\n"
          ]
        }
      ]
    },
    {
      "cell_type": "code",
      "source": [
        "# Function to normalize data using Z-score\n",
        "def zscore_normalization(df):\n",
        "    normalized_df = df.copy()\n",
        "    for column in normalized_df.columns:\n",
        "        mean = normalized_df[column].mean()\n",
        "        std = normalized_df[column].std()\n",
        "        normalized_df[column] = (normalized_df[column] - mean) / std\n",
        "    return normalized_df\n",
        "\n",
        "# Normalize the DataFrame\n",
        "normalized_df = zscore_normalization(df)\n",
        "\n",
        "# Display the normalized data\n",
        "print(\"\\nNormalized Data (Z-score):\")\n",
        "print(normalized_df)"
      ],
      "metadata": {
        "colab": {
          "base_uri": "https://localhost:8080/"
        },
        "id": "X-jiH9jR47TX",
        "outputId": "7e74616c-23c4-43c3-972d-fa338aa9aea2"
      },
      "execution_count": null,
      "outputs": [
        {
          "output_type": "stream",
          "name": "stdout",
          "text": [
            "\n",
            "Normalized Data (Z-score):\n",
            "   Feature1  Feature2\n",
            "0 -1.264911 -1.264911\n",
            "1 -0.632456 -0.632456\n",
            "2  0.000000  0.000000\n",
            "3  0.632456  0.632456\n",
            "4  1.264911  1.264911\n"
          ]
        }
      ]
    }
  ]
}